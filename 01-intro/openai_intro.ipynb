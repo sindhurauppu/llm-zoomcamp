{
 "cells": [
  {
   "cell_type": "code",
   "execution_count": 1,
   "id": "da328f4e-a610-4b63-834e-51b9f9f7f2b4",
   "metadata": {},
   "outputs": [],
   "source": [
    "import openai"
   ]
  },
  {
   "cell_type": "code",
   "execution_count": 2,
   "id": "a1ee9d96-6c4e-496c-9c53-018cf3e5901d",
   "metadata": {},
   "outputs": [],
   "source": [
    "from openai import OpenAI"
   ]
  },
  {
   "cell_type": "code",
   "execution_count": 20,
   "id": "0eb39231-1205-426d-8608-ca863f0d37a9",
   "metadata": {},
   "outputs": [],
   "source": [
    "client = OpenAI()"
   ]
  },
  {
   "cell_type": "code",
   "execution_count": 4,
   "id": "841c93b6-2c16-463b-a426-44a814e3f6bd",
   "metadata": {},
   "outputs": [],
   "source": [
    "import os"
   ]
  },
  {
   "cell_type": "code",
   "execution_count": 21,
   "id": "0ec868b5-9010-483d-879b-d6a7d93a9148",
   "metadata": {},
   "outputs": [],
   "source": [
    "response = client.chat.completions.create(\n",
    "    model=\"gpt-4o-mini\",\n",
    "    messages=[{\"role\": \"user\", \"content\": \"give me good LLM courses online\"}]\n",
    ")"
   ]
  },
  {
   "cell_type": "code",
   "execution_count": 22,
   "id": "78567702-5d4c-4713-a92f-8531a7525a75",
   "metadata": {},
   "outputs": [
    {
     "data": {
      "text/plain": [
       "ChatCompletion(id='chatcmpl-AyZDHcscXXXGxquG1ImGgAZVFOcGX', choices=[Choice(finish_reason='stop', index=0, logprobs=None, message=ChatCompletionMessage(content='Here are some highly regarded online courses and resources that you can explore to learn about Large Language Models (LLMs) and Natural Language Processing (NLP):\\n\\n### 1. **Coursera**\\n   - **Natural Language Processing Specialization** by deeplearning.ai\\n     - Covers foundational NLP concepts and includes practical applications. Offers insights into models like transformers, which are foundational for LLMs.\\n   - **Transformers for Natural Language Processing** by Hugging Face\\n     - Focuses specifically on transformer models, which underpin many state-of-the-art LLMs.\\n\\n### 2. **edX**\\n   - **Artificial Intelligence for NLP** by Columbia University\\n     - Covers various aspects of NLP and how AI can be applied.\\n   - **Deep Learning for Natural Language Processing** by National Research University Higher School of Economics\\n     - Introduces deep learning techniques for NLP tasks, including advanced architectures like LSTMs and transformers.\\n\\n### 3. **Udacity**\\n   - **Natural Language Processing Nanodegree**\\n     - A comprehensive program covering various NLP techniques, including deep learning methods for LLMs.\\n\\n### 4. **Fast.ai**\\n   - **Practical Deep Learning for Coders**\\n     - Although not solely focused on NLP, this course offers practical implementations using deep learning techniques applicable to LLMs.\\n\\n### 5. **Kaggle**\\n   - **NLP Courses & Notebooks**\\n     - Kaggle offers practical tutorials and competitions focused on NLP, allowing you to work with real datasets and models.\\n\\n### 6. **YouTube**\\n   - **Hugging Face Course on Transformers**\\n     - An excellent introduction to working with transformer models through hands-on coding examples.\\n   - **Stanford\\'s CS224N: Natural Language Processing with Deep Learning**\\n     - The course materials and lectures are available online, covering many important NLP topics, including modern architectures like transformers and BERT.\\n\\n### 7. **Books**\\n   - **\"Hands-On Natural Language Processing with Python\" by Rajesh Arumugam and Raheem Beyah**\\n     - A practical guide to implementing NLP tasks in Python, covering various models, including some foundational LLMs.\\n\\n### 8. **GitHub Repositories**\\n   - Check out repositories like Hugging Face Documentation, which provide extensive resources on using transformers and LLMs.\\n\\nThese courses vary in depth and focus, so you can choose based on your current knowledge level and specific interests in LLMs and NLP.', refusal=None, role='assistant', audio=None, function_call=None, tool_calls=None))], created=1738998403, model='gpt-4o-mini-2024-07-18', object='chat.completion', service_tier='default', system_fingerprint='fp_bd83329f63', usage=CompletionUsage(completion_tokens=506, prompt_tokens=14, total_tokens=520, completion_tokens_details=CompletionTokensDetails(accepted_prediction_tokens=0, audio_tokens=0, reasoning_tokens=0, rejected_prediction_tokens=0), prompt_tokens_details=PromptTokensDetails(audio_tokens=0, cached_tokens=0)))"
      ]
     },
     "execution_count": 22,
     "metadata": {},
     "output_type": "execute_result"
    }
   ],
   "source": [
    "response"
   ]
  },
  {
   "cell_type": "code",
   "execution_count": 24,
   "id": "5cbe434a-b0b5-4032-94c6-def92bfadcb6",
   "metadata": {},
   "outputs": [
    {
     "data": {
      "text/plain": [
       "ChatCompletionMessage(content='Here are some highly regarded online courses and resources that you can explore to learn about Large Language Models (LLMs) and Natural Language Processing (NLP):\\n\\n### 1. **Coursera**\\n   - **Natural Language Processing Specialization** by deeplearning.ai\\n     - Covers foundational NLP concepts and includes practical applications. Offers insights into models like transformers, which are foundational for LLMs.\\n   - **Transformers for Natural Language Processing** by Hugging Face\\n     - Focuses specifically on transformer models, which underpin many state-of-the-art LLMs.\\n\\n### 2. **edX**\\n   - **Artificial Intelligence for NLP** by Columbia University\\n     - Covers various aspects of NLP and how AI can be applied.\\n   - **Deep Learning for Natural Language Processing** by National Research University Higher School of Economics\\n     - Introduces deep learning techniques for NLP tasks, including advanced architectures like LSTMs and transformers.\\n\\n### 3. **Udacity**\\n   - **Natural Language Processing Nanodegree**\\n     - A comprehensive program covering various NLP techniques, including deep learning methods for LLMs.\\n\\n### 4. **Fast.ai**\\n   - **Practical Deep Learning for Coders**\\n     - Although not solely focused on NLP, this course offers practical implementations using deep learning techniques applicable to LLMs.\\n\\n### 5. **Kaggle**\\n   - **NLP Courses & Notebooks**\\n     - Kaggle offers practical tutorials and competitions focused on NLP, allowing you to work with real datasets and models.\\n\\n### 6. **YouTube**\\n   - **Hugging Face Course on Transformers**\\n     - An excellent introduction to working with transformer models through hands-on coding examples.\\n   - **Stanford\\'s CS224N: Natural Language Processing with Deep Learning**\\n     - The course materials and lectures are available online, covering many important NLP topics, including modern architectures like transformers and BERT.\\n\\n### 7. **Books**\\n   - **\"Hands-On Natural Language Processing with Python\" by Rajesh Arumugam and Raheem Beyah**\\n     - A practical guide to implementing NLP tasks in Python, covering various models, including some foundational LLMs.\\n\\n### 8. **GitHub Repositories**\\n   - Check out repositories like Hugging Face Documentation, which provide extensive resources on using transformers and LLMs.\\n\\nThese courses vary in depth and focus, so you can choose based on your current knowledge level and specific interests in LLMs and NLP.', refusal=None, role='assistant', audio=None, function_call=None, tool_calls=None)"
      ]
     },
     "execution_count": 24,
     "metadata": {},
     "output_type": "execute_result"
    }
   ],
   "source": [
    "response.choices[0].message"
   ]
  },
  {
   "cell_type": "code",
   "execution_count": 25,
   "id": "8d5de286-2cdc-40cd-8613-a32d07443b4a",
   "metadata": {},
   "outputs": [
    {
     "data": {
      "text/plain": [
       "'Here are some highly regarded online courses and resources that you can explore to learn about Large Language Models (LLMs) and Natural Language Processing (NLP):\\n\\n### 1. **Coursera**\\n   - **Natural Language Processing Specialization** by deeplearning.ai\\n     - Covers foundational NLP concepts and includes practical applications. Offers insights into models like transformers, which are foundational for LLMs.\\n   - **Transformers for Natural Language Processing** by Hugging Face\\n     - Focuses specifically on transformer models, which underpin many state-of-the-art LLMs.\\n\\n### 2. **edX**\\n   - **Artificial Intelligence for NLP** by Columbia University\\n     - Covers various aspects of NLP and how AI can be applied.\\n   - **Deep Learning for Natural Language Processing** by National Research University Higher School of Economics\\n     - Introduces deep learning techniques for NLP tasks, including advanced architectures like LSTMs and transformers.\\n\\n### 3. **Udacity**\\n   - **Natural Language Processing Nanodegree**\\n     - A comprehensive program covering various NLP techniques, including deep learning methods for LLMs.\\n\\n### 4. **Fast.ai**\\n   - **Practical Deep Learning for Coders**\\n     - Although not solely focused on NLP, this course offers practical implementations using deep learning techniques applicable to LLMs.\\n\\n### 5. **Kaggle**\\n   - **NLP Courses & Notebooks**\\n     - Kaggle offers practical tutorials and competitions focused on NLP, allowing you to work with real datasets and models.\\n\\n### 6. **YouTube**\\n   - **Hugging Face Course on Transformers**\\n     - An excellent introduction to working with transformer models through hands-on coding examples.\\n   - **Stanford\\'s CS224N: Natural Language Processing with Deep Learning**\\n     - The course materials and lectures are available online, covering many important NLP topics, including modern architectures like transformers and BERT.\\n\\n### 7. **Books**\\n   - **\"Hands-On Natural Language Processing with Python\" by Rajesh Arumugam and Raheem Beyah**\\n     - A practical guide to implementing NLP tasks in Python, covering various models, including some foundational LLMs.\\n\\n### 8. **GitHub Repositories**\\n   - Check out repositories like Hugging Face Documentation, which provide extensive resources on using transformers and LLMs.\\n\\nThese courses vary in depth and focus, so you can choose based on your current knowledge level and specific interests in LLMs and NLP.'"
      ]
     },
     "execution_count": 25,
     "metadata": {},
     "output_type": "execute_result"
    }
   ],
   "source": [
    "response.choices[0].message.content"
   ]
  },
  {
   "cell_type": "code",
   "execution_count": null,
   "id": "bb074ffb-5f20-4a73-9c47-85f84acd260e",
   "metadata": {},
   "outputs": [],
   "source": []
  }
 ],
 "metadata": {
  "kernelspec": {
   "display_name": "Python 3 (ipykernel)",
   "language": "python",
   "name": "python3"
  },
  "language_info": {
   "codemirror_mode": {
    "name": "ipython",
    "version": 3
   },
   "file_extension": ".py",
   "mimetype": "text/x-python",
   "name": "python",
   "nbconvert_exporter": "python",
   "pygments_lexer": "ipython3",
   "version": "3.12.1"
  }
 },
 "nbformat": 4,
 "nbformat_minor": 5
}
